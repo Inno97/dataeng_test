{
  "nbformat": 4,
  "nbformat_minor": 0,
  "metadata": {
    "colab": {
      "name": "s5_machine_learning.ipynb",
      "provenance": [],
      "collapsed_sections": []
    },
    "kernelspec": {
      "name": "python3",
      "display_name": "Python 3"
    },
    "language_info": {
      "name": "python"
    }
  },
  "cells": [
    {
      "cell_type": "markdown",
      "source": [
        "# Section 5: Machine Learning\n",
        "\n",
        "Using the dataset from https://archive.ics.uci.edu/ml/datasets/Car+Evaluation, create a machine learning model to predict the buying price given the following parameters:\n",
        "\n",
        "- Maintenance = High\n",
        "- Number of doors = 4\n",
        "- Lug Boot Size = Big\n",
        "- Safety = High\n",
        "- Class Value = Good\n",
        "\n",
        "*Note: This notebook was ran in Google colab.*\n",
        "\n",
        "## Model Explanation & Observations\n",
        "\n",
        "It is possible to predict the class value based on the original 6 attributes\n",
        "with really good accuracy.\n",
        "\n",
        "However, this section requires us to predict the 'buying' attribute based on \n",
        "the other attributes and the class value. I would then try to reverse this,\n",
        "and use the 'buying' attribute as the class label to predict. But this in turn\n",
        "gives really bad accuracy after some testing.\n",
        "\n",
        "Since we know that we CAN train based on the original attributes, we instead\n",
        "try out all buying labels for a particular entry, keeping the other attributes\n",
        "the same. We then get the predicted probabilities for the desired class value,\n",
        "and then get the largest probability and the respective buying label.\n",
        "\n",
        "This will require more computations, since we are performing 4 predictions \n",
        "instead of just 1. This is the tradeoff that I can come up with at the moment,\n",
        "to get good performance with the model.\n",
        "\n",
        "2 other decision trees will be shown. One that is trained and used in the same\n",
        "way, except that we include the 'persons' attribute and is more accurate.\n",
        "\n",
        "The last decision tree is also trained to directly predict the 'buying' \n",
        "attribute, and its results are also shown here.\n"
      ],
      "metadata": {
        "id": "csC1jBhKpouK"
      }
    },
    {
      "cell_type": "code",
      "source": [
        "# imports\n",
        "import os\n",
        "import pandas as pd\n",
        "import numpy as np\n",
        "\n",
        "from sklearn.model_selection import train_test_split, GridSearchCV\n",
        "from sklearn.metrics import classification_report\n",
        "from sklearn.tree import DecisionTreeClassifier\n"
      ],
      "metadata": {
        "id": "yj4zaSYTrkEv"
      },
      "execution_count": 1,
      "outputs": []
    },
    {
      "cell_type": "code",
      "source": [
        "# parameters related to the dataset\n",
        "file_path = os.getcwd() + '/car.data'\n",
        "\n",
        "col_names = ['buying', 'maint', 'doors', 'persons', 'lug_boot', 'safety', \\\n",
        "             'acceptability']\n",
        "\n",
        "buying_labels = ['low', 'med', 'high', 'vhigh']\n",
        "\n",
        "# labels for one-hot encoding\n",
        "labels_buying = {'low': 0, 'med': 1, 'high': 2, 'vhigh': 3}\n",
        "labels_maint = {'low': 0, 'med': 1, 'high': 2, 'vhigh': 3}\n",
        "labels_doors = {'2': 0, '3': 1, '4': 2, '5more': 3}\n",
        "labels_persons = {'2': 0, '4': 1, 'more': 2}\n",
        "labels_lug_boot = {'small': 0, 'med': 1, 'big': 2}\n",
        "labels_safety = {'low': 0, 'med': 1, 'high': 2}\n",
        "labels_acceptability = {'unacc': 0, 'acc': 1, 'good': 2, 'vgood': 3}"
      ],
      "metadata": {
        "id": "OMg0eLJIrqK8"
      },
      "execution_count": 2,
      "outputs": []
    },
    {
      "cell_type": "code",
      "execution_count": 3,
      "metadata": {
        "id": "03f3brpMphP4"
      },
      "outputs": [],
      "source": [
        "# load the data\n",
        "dataset_df = pd.read_csv(file_path, names = col_names)\n",
        "\n",
        "# encode the data\n",
        "dataset_df.iloc[:, 0].replace(labels_buying, inplace = True)\n",
        "dataset_df.iloc[:, 1].replace(labels_maint, inplace = True)\n",
        "dataset_df.iloc[:, 2].replace(labels_doors, inplace = True)\n",
        "dataset_df.iloc[:, 3].replace(labels_persons, inplace = True)\n",
        "dataset_df.iloc[:, 4].replace(labels_lug_boot, inplace = True)\n",
        "dataset_df.iloc[:, 5].replace(labels_safety, inplace = True)\n",
        "\n",
        "labels = dataset_df.iloc[:, 6]\n",
        "features = dataset_df.iloc[:, :6]\n",
        "\n",
        "# drop the persons column as it is unused\n",
        "features.drop(columns = 'persons', inplace = True)\n",
        "\n",
        "# train test split\n",
        "x_train, x_test, y_train, y_test = train_test_split(features, \\\n",
        "                                                  labels, test_size = 0.3, \\\n",
        "                                                  random_state = 97)\n"
      ]
    },
    {
      "cell_type": "markdown",
      "source": [
        "# Train the Model\n",
        "\n",
        "We will train a decision tree classifier with the following inputs:\n",
        "\n",
        "> Buying price\\\n",
        "Maintenance\\\n",
        "Number of doors\\\n",
        "Lug Boot Size\\\n",
        "Safety\n",
        "\n",
        "And to predict the class value.\n",
        "\n",
        "In this case, the performance is okay, partly because we are missing the\n",
        "'person' attribute.\n",
        "\n",
        "During predictions, predictions for all possible buying prices are used. The\n",
        "highest prediction confidence of the given class value is taken."
      ],
      "metadata": {
        "id": "-p1nFWD8of1k"
      }
    },
    {
      "cell_type": "code",
      "source": [
        "def create_and_train_model(x_train, y_train, x_test, y_test):\n",
        "  \"\"\"Uses SKLearn Grid Search CV to try out various parameters for a decision\n",
        "  tree, and returns the best model trained.\n",
        "\n",
        "  A performance report from SKLearn metrics will be produced, showing us the\n",
        "  different metrics for each class label.\n",
        "  \"\"\"\n",
        "  decision_tree = DecisionTreeClassifier()\n",
        "  param_grid = {'criterion': ['gini', 'entropy'], \\\n",
        "                'max_depth': [5, 6, 7, 8, 9, 10, 11, 12], \\\n",
        "                'min_samples_leaf': [1, 2, 3], \\\n",
        "                'random_state':[97]}\n",
        "                \n",
        "  model = GridSearchCV(decision_tree, param_grid)\n",
        "  model.fit(x_train, y_train)\n",
        "\n",
        "  y_pred = model.predict(x_test)\n",
        "  print('Report:')\n",
        "  print(classification_report(y_test, y_pred))\n",
        "\n",
        "  return model\n",
        "\n",
        "def predict_buying_price(model, features: pd.DataFrame) -> list:\n",
        "  \"\"\"Takes in the following features, and provides a List of predictions for \n",
        "  the buying price.\n",
        "\n",
        "  Features:\n",
        "    Maintenance\n",
        "    Number of doors\n",
        "    Lug Boot Size\n",
        "    Safety\n",
        "    Class value\n",
        "  \n",
        "  Performs a series of model predictions with different buying values, and takes\n",
        "  the buying value with the highest probability of predicting the target class \n",
        "  value.\n",
        "  \"\"\"\n",
        "  buying_price_values = [0, 1, 2, 3]\n",
        "  \n",
        "  # re-arrange the data\n",
        "  temp_features = features\n",
        "  class_values = temp_features['acceptability']\n",
        "  temp_features.drop(columns = 'acceptability', inplace = True)\n",
        "\n",
        "  prediction_probabilities = [[] for i in range(len(features))]\n",
        "  predictions = []\n",
        "\n",
        "  # predict with all values of buying price\n",
        "  for i in range(len(buying_price_values)):\n",
        "    temp_features.insert(0, 'buying', [buying_price_values[i] for j in range(len(features))])\n",
        "    probabilities = model.predict_proba(temp_features)\n",
        "    temp_features.drop(columns='buying', inplace=True)\n",
        "\n",
        "    for j in range(len(probabilities)):\n",
        "      prediction_probabilities[j].append(probabilities[j])\n",
        "\n",
        "  # get the argmax of the class value, to get the appropriate buying price\n",
        "  for i in range(len(prediction_probabilities)):\n",
        "    correct_class_labels = [prediction_probabilities[i][j][class_values[i]] \\\n",
        "                            for j in range(4)]\n",
        "                            \n",
        "    predictions.append(np.argmax(correct_class_labels))\n",
        "    \n",
        "  return predictions\n"
      ],
      "metadata": {
        "id": "G1I24ep-4lYW"
      },
      "execution_count": 4,
      "outputs": []
    },
    {
      "cell_type": "code",
      "source": [
        "# create and train the model\n",
        "model = create_and_train_model(x_train, y_train, x_test, y_test)\n"
      ],
      "metadata": {
        "colab": {
          "base_uri": "https://localhost:8080/"
        },
        "id": "v3VKM3CA31MZ",
        "outputId": "493a3dc6-f044-4298-a68f-51e568f6c390"
      },
      "execution_count": 5,
      "outputs": [
        {
          "output_type": "stream",
          "name": "stdout",
          "text": [
            "Report:\n",
            "              precision    recall  f1-score   support\n",
            "\n",
            "         acc       0.60      0.80      0.68       119\n",
            "        good       0.39      1.00      0.56        12\n",
            "       unacc       0.92      0.77      0.84       373\n",
            "       vgood       0.50      0.53      0.52        15\n",
            "\n",
            "    accuracy                           0.78       519\n",
            "   macro avg       0.60      0.78      0.65       519\n",
            "weighted avg       0.82      0.78      0.79       519\n",
            "\n"
          ]
        }
      ]
    },
    {
      "cell_type": "code",
      "source": [
        "# run the input given\n",
        "input_features = pd.DataFrame.from_dict({'maint': [2], 'doors': [2], \\\n",
        "                                         'lug_boot': [1], 'safety': [2], \\\n",
        "                                         'acceptability': [2]})\n",
        "\n",
        "results = predict_buying_price(model, input_features)\n",
        "for result in results:\n",
        "  print(buying_labels[result])\n"
      ],
      "metadata": {
        "colab": {
          "base_uri": "https://localhost:8080/"
        },
        "id": "Eq9QWwixE1t_",
        "outputId": "b5033b2f-1327-4fe5-aa16-6f66082bae43"
      },
      "execution_count": 6,
      "outputs": [
        {
          "output_type": "stream",
          "name": "stdout",
          "text": [
            "vhigh\n"
          ]
        }
      ]
    },
    {
      "cell_type": "markdown",
      "source": [
        "# Further Validation\n",
        "\n",
        "To prove that this can work better, I will train a model with the 'persons'\n",
        "attribute, which produces an original model with higher performance metrics.\n",
        "\n",
        "Since this needs the 'persons' field, I will provide the prediction for all\n",
        "3 values of 'persons'."
      ],
      "metadata": {
        "id": "bYFXGwm2E7Hq"
      }
    },
    {
      "cell_type": "code",
      "source": [
        "# encode the data with the persons column\n",
        "dataset_df.iloc[:, 0].replace(labels_buying, inplace = True)\n",
        "dataset_df.iloc[:, 1].replace(labels_maint, inplace = True)\n",
        "dataset_df.iloc[:, 2].replace(labels_doors, inplace = True)\n",
        "dataset_df.iloc[:, 3].replace(labels_persons, inplace = True)\n",
        "dataset_df.iloc[:, 4].replace(labels_lug_boot, inplace = True)\n",
        "dataset_df.iloc[:, 5].replace(labels_safety, inplace = True)\n",
        "\n",
        "labels = dataset_df.iloc[:, 6]\n",
        "features = dataset_df.iloc[:, :6]\n",
        "\n",
        "# train test split\n",
        "x_train, x_test, y_train, y_test = train_test_split(features, \\\n",
        "                                                  labels, test_size = 0.3, \\\n",
        "                                                  random_state = 97)"
      ],
      "metadata": {
        "id": "9mrlR7M5FIA3"
      },
      "execution_count": 7,
      "outputs": []
    },
    {
      "cell_type": "code",
      "source": [
        "# create and train the model\n",
        "model = create_and_train_model(x_train, y_train, x_test, y_test)\n"
      ],
      "metadata": {
        "colab": {
          "base_uri": "https://localhost:8080/"
        },
        "id": "h6zeh1bgDh6d",
        "outputId": "20c5c211-d5c4-4fdf-8f5f-56f0a117af27"
      },
      "execution_count": 8,
      "outputs": [
        {
          "output_type": "stream",
          "name": "stdout",
          "text": [
            "Report:\n",
            "              precision    recall  f1-score   support\n",
            "\n",
            "         acc       0.95      0.95      0.95       119\n",
            "        good       0.80      1.00      0.89        12\n",
            "       unacc       0.99      0.99      0.99       373\n",
            "       vgood       1.00      0.93      0.97        15\n",
            "\n",
            "    accuracy                           0.98       519\n",
            "   macro avg       0.94      0.97      0.95       519\n",
            "weighted avg       0.98      0.98      0.98       519\n",
            "\n"
          ]
        }
      ]
    },
    {
      "cell_type": "code",
      "source": [
        "# get the predictions\n",
        "input_features = pd.DataFrame.from_dict({'maint': [2, 2, 2], \\\n",
        "                                         'doors': [2, 2, 2], \\\n",
        "                                         'persons': [0, 1, 2], \\\n",
        "                                         'lug_boot': [1, 1, 1], \\\n",
        "                                         'safety': [2, 2, 2], \\\n",
        "                                         'acceptability': [2, 2, 2]})\n",
        "\n",
        "results = predict_buying_price(model, input_features)\n",
        "\n",
        "print('buying price if the persons field was: ')\n",
        "print('2: ' + buying_labels[results[0]])\n",
        "print('4: ' + buying_labels[results[1]])\n",
        "print('more: ' + buying_labels[results[2]])\n"
      ],
      "metadata": {
        "colab": {
          "base_uri": "https://localhost:8080/"
        },
        "id": "JzeskrldFrvZ",
        "outputId": "390c9734-4a63-45a4-d6ce-c6e7f03857af"
      },
      "execution_count": 9,
      "outputs": [
        {
          "output_type": "stream",
          "name": "stdout",
          "text": [
            "buying price if the persons field was: \n",
            "2: low\n",
            "4: vhigh\n",
            "more: vhigh\n"
          ]
        }
      ]
    },
    {
      "cell_type": "markdown",
      "source": [
        "# Original Decision Tree Classifier\n",
        "\n",
        "This will show a decision tree if it was trained directly with the specific\n",
        "features, to predict the buying price."
      ],
      "metadata": {
        "id": "k57khiYBsnPm"
      }
    },
    {
      "cell_type": "code",
      "source": [
        "# encode the data\n",
        "dataset_df.iloc[:, 1].replace(labels_maint, inplace = True)\n",
        "dataset_df.iloc[:, 2].replace(labels_doors, inplace = True)\n",
        "dataset_df.iloc[:, 3].replace(labels_persons, inplace = True)\n",
        "dataset_df.iloc[:, 4].replace(labels_lug_boot, inplace = True)\n",
        "dataset_df.iloc[:, 5].replace(labels_safety, inplace = True)\n",
        "dataset_df.iloc[:, 6].replace(labels_acceptability, inplace = True)\n",
        "\n",
        "labels = dataset_df.iloc[:, 0]\n",
        "features = dataset_df.iloc[:, 1:7]\n",
        "\n",
        "# drop the persons column as it is unused\n",
        "features.drop(columns = 'persons', inplace = True)\n",
        "\n",
        "# train test split\n",
        "x_train, x_test, y_train, y_test = train_test_split(features, \\\n",
        "                                                  labels, test_size = 0.3, \\\n",
        "                                                  random_state = 97)"
      ],
      "metadata": {
        "id": "Zt1GXFbwGRu2"
      },
      "execution_count": 10,
      "outputs": []
    },
    {
      "cell_type": "code",
      "source": [
        "# create and train the model\n",
        "model = create_and_train_model(x_train, y_train, x_test, y_test)\n"
      ],
      "metadata": {
        "colab": {
          "base_uri": "https://localhost:8080/"
        },
        "id": "ivaJar__GfqS",
        "outputId": "3e5aa6e9-f35a-4d22-971d-44f47659464c"
      },
      "execution_count": 11,
      "outputs": [
        {
          "output_type": "stream",
          "name": "stdout",
          "text": [
            "Report:\n",
            "              precision    recall  f1-score   support\n",
            "\n",
            "           0       0.28      0.17      0.21       139\n",
            "           1       0.21      0.11      0.14       132\n",
            "           2       0.27      0.19      0.23       129\n",
            "           3       0.24      0.55      0.33       119\n",
            "\n",
            "    accuracy                           0.25       519\n",
            "   macro avg       0.25      0.25      0.23       519\n",
            "weighted avg       0.25      0.25      0.23       519\n",
            "\n"
          ]
        }
      ]
    },
    {
      "cell_type": "code",
      "source": [
        "# and then perform the prediction\n",
        "input_features = pd.DataFrame.from_dict({'maint': [2], 'doors': [2], \\\n",
        "                                         'lug_boot': [1], 'safety': [2], \\\n",
        "                                         'acceptability': [2]})\n",
        "\n",
        "results = model.predict(input_features)\n",
        "for result in results:\n",
        "  print(buying_labels[result])\n"
      ],
      "metadata": {
        "colab": {
          "base_uri": "https://localhost:8080/"
        },
        "id": "B60SW97nGh4n",
        "outputId": "f443fe74-e4f0-460e-87fb-283894e6d6a3"
      },
      "execution_count": 12,
      "outputs": [
        {
          "output_type": "stream",
          "name": "stdout",
          "text": [
            "low\n"
          ]
        }
      ]
    }
  ]
}